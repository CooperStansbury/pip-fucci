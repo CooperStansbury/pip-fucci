{
 "cells": [
  {
   "cell_type": "code",
   "execution_count": null,
   "id": "3b79a5ce-ce7b-4fd2-8e9d-cde45790f7fa",
   "metadata": {},
   "outputs": [],
   "source": [
    "import pandas as pd\n",
    "import numpy as np\n",
    "import os\n",
    "import sys\n",
    "import matplotlib\n",
    "import matplotlib.pyplot as plt\n",
    "import re\n",
    "from tifffile import imread\n",
    "from sklearn import preprocessing\n",
    "import math\n",
    "import scipy\n",
    "from scipy.sparse import csgraph\n",
    "from scipy.signal import windows\n",
    "from scipy import stats\n",
    "import seaborn as sns\n",
    "import networkx as nx\n",
    "\n",
    "from sklearn.metrics import pairwise_distances\n",
    "\n",
    "# local imports\n",
    "sys.path.append('../')\n",
    "import cyclePred as cp"
   ]
  },
  {
   "cell_type": "code",
   "execution_count": null,
   "id": "4ebfb9c3-0e62-40c5-af32-6157b8a6f84c",
   "metadata": {},
   "outputs": [],
   "source": [
    "FILE = \"B2\"\n",
    "\n",
    "\"\"\"load the cells \"\"\"\n",
    "fpath = f\"/scratch/indikar_root/indikar1/cstansbu/pf-sync/segmentation/{FILE}.celldata.csv\"\n",
    "cdf = pd.read_csv(fpath)\n",
    "print(f\"{cdf.shape=}\")\n",
    "\n",
    "\n",
    "\"\"\"Load the tracks \"\"\"\n",
    "fpath = f\"/scratch/indikar_root/indikar1/cstansbu/pf-sync/tracks/{FILE}.tracks.full.csv\"\n",
    "tdf = pd.read_csv(fpath)\n",
    "\n",
    "# add the cycle delineation\n",
    "alpha = 0.05\n",
    "tdf = cp.getPhases(tdf, alpha, correct=True)\n",
    "\n",
    "# add track length and time variables\n",
    "minsPerFrame = 20\n",
    "tdf['trackLen'] = tdf.groupby('ID')['x'].transform('count')\n",
    "tdf['Time'] = (tdf['t'] * minsPerFrame) / 60\n",
    "\n",
    "print(f\"{tdf.shape=}\")\n",
    "print()\n",
    "print(tdf.columns)\n",
    "tdf.head()"
   ]
  },
  {
   "cell_type": "code",
   "execution_count": null,
   "id": "cf69e971-0480-4f2b-86b6-b64ef489a24f",
   "metadata": {},
   "outputs": [],
   "source": [
    "print(f\"{tdf['ID'].nunique()=}\")\n",
    "fdf = tdf[tdf['trackLen'] == tdf['trackLen'].max()]\n",
    "print(f\"{fdf['ID'].nunique()=}\")"
   ]
  },
  {
   "cell_type": "code",
   "execution_count": null,
   "id": "736ae6b0-11b8-4007-bd33-453acd23a225",
   "metadata": {},
   "outputs": [],
   "source": [
    "fdf['dummy'].value_counts()"
   ]
  },
  {
   "cell_type": "code",
   "execution_count": null,
   "id": "bc47d28a-9ff9-438b-8031-926b5128c721",
   "metadata": {},
   "outputs": [],
   "source": [
    "thresh = 1000\n",
    "\n",
    "res = []\n",
    "\n",
    "for t in fdf['t'].unique():\n",
    "    frame = fdf[fdf['t'] == t]\n",
    "    frame = frame.sort_values(by='ID')\n",
    "    A = pairwise_distances(frame[['x', 'y']])\n",
    "\n",
    "    A = np.where(A < thresh, 1, 0)\n",
    "    L = csgraph.laplacian(A, normed=True)\n",
    "\n",
    "    eigs, evals = np.linalg.eigh(L)\n",
    "\n",
    "\n",
    "    row = {\n",
    "        'Time' : t,\n",
    "        'FN' : eigs[1],\n",
    "    }\n",
    "    \n",
    "    res.append(row)\n",
    "    \n",
    "res = pd.DataFrame(res)\n",
    "print(res.head())\n",
    "\n",
    "sns.lineplot(data=res, x='Time', y='FN')"
   ]
  },
  {
   "cell_type": "code",
   "execution_count": null,
   "id": "00bd91d5-5928-4d93-9674-c3285117cacc",
   "metadata": {},
   "outputs": [],
   "source": []
  }
 ],
 "metadata": {
  "kernelspec": {
   "display_name": "Python 3 (ipykernel)",
   "language": "python",
   "name": "python3"
  },
  "language_info": {
   "codemirror_mode": {
    "name": "ipython",
    "version": 3
   },
   "file_extension": ".py",
   "mimetype": "text/x-python",
   "name": "python",
   "nbconvert_exporter": "python",
   "pygments_lexer": "ipython3",
   "version": "3.9.7"
  }
 },
 "nbformat": 4,
 "nbformat_minor": 5
}
