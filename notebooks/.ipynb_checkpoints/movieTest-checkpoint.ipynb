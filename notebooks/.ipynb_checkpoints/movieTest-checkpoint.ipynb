{
 "cells": [
  {
   "cell_type": "code",
   "execution_count": 1,
   "id": "33804fea-360a-40f0-95f6-a867e474deaf",
   "metadata": {},
   "outputs": [],
   "source": [
    "from tifffile import imread\n",
    "import matplotlib.pyplot as plt\n",
    "import cv2"
   ]
  },
  {
   "cell_type": "code",
   "execution_count": null,
   "id": "d69aa782-3198-420d-87a6-07eb06d5e17f",
   "metadata": {},
   "outputs": [],
   "source": [
    "testPath = \"/nfs/turbo/umms-indikar/shared/projects/wound_healing/data/sync-unsync/BJPFsync-A3-autobestfit.ome.tiff\"\n",
    "t = imread(testPath)"
   ]
  },
  {
   "cell_type": "code",
   "execution_count": null,
   "id": "5df18bba-39c7-474d-8f84-17078bd51ae8",
   "metadata": {},
   "outputs": [],
   "source": []
  },
  {
   "cell_type": "code",
   "execution_count": null,
   "id": "03206d2e-8213-4e1c-b0e1-b5595a1d6b2c",
   "metadata": {},
   "outputs": [],
   "source": []
  },
  {
   "cell_type": "code",
   "execution_count": 2,
   "id": "9f085707-713c-4ede-8ab1-3e5e3afe694b",
   "metadata": {},
   "outputs": [
    {
     "name": "stdout",
     "output_type": "stream",
     "text": [
      "img.shape=(252, 3, 1631, 2250)\n"
     ]
    }
   ],
   "source": [
    "imgPath = \"/scratch/indikar_root/indikar1/cstansbu/pf-test/images/test.raw.tiff\"\n",
    "segPath = \"/scratch/indikar_root/indikar1/cstansbu/pf-test/images/test.segmented.tiff\"\n",
    "\n",
    "img = imread(imgPath)\n",
    "# seg = imread(segPath)\n",
    "\n",
    "print(f\"{img.shape=}\")\n",
    "# print(f\"{seg.shape=}\")"
   ]
  },
  {
   "cell_type": "code",
   "execution_count": 3,
   "id": "17e7494a-bd09-4a4d-a769-433bf4fb85f2",
   "metadata": {},
   "outputs": [
    {
     "data": {
      "text/plain": [
       "<matplotlib.image.AxesImage at 0x14f34eb1e520>"
      ]
     },
     "execution_count": 3,
     "metadata": {},
     "output_type": "execute_result"
    },
    {
     "data": {
      "image/png": "[encoded data removed]",
      "text/plain": [
       "<Figure size 640x480 with 1 Axes>"
      ]
     },
     "metadata": {},
     "output_type": "display_data"
    }
   ],
   "source": [
    "t = 10\n",
    "\n",
    "plt.spy(img[t, 1, :, :], cmap='binary')"
   ]
  },
  {
   "cell_type": "code",
   "execution_count": 4,
   "id": "703e7621-0bec-4081-bdf1-672d2c3ac1cb",
   "metadata": {},
   "outputs": [
    {
     "name": "stderr",
     "output_type": "stream",
     "text": [
      "TiffFrame 756: missing required tags\n",
      "OME series: expected 756 frames, got 757\n"
     ]
    },
    {
     "name": "stdout",
     "output_type": "stream",
     "text": [
      "im2.shape=(3, 252, 2175, 3000, 3)\n"
     ]
    }
   ],
   "source": [
    "tpath = \"/nfs/turbo/umms-indikar/shared/projects/wound_healing/data/sync-unsync/20230502-BJPF-sync-A3-20m.ome.tiff\"\n",
    "\n",
    "im2 = imread(tpath)\n",
    "print(f\"{im2.shape=}\")"
   ]
  },
  {
   "cell_type": "code",
   "execution_count": 5,
   "id": "6840eb4c-4886-4710-ac82-265f3685565c",
   "metadata": {},
   "outputs": [
    {
     "data": {
      "text/plain": [
       "(3, 252, 2175, 3000, 3)"
      ]
     },
     "execution_count": 5,
     "metadata": {},
     "output_type": "execute_result"
    }
   ],
   "source": [
    "t = 10\n",
    "\n",
    "im2 = im2.astype(float)\n",
    "im2.shape\n",
    "\n",
    "# plt.spy(im2[1, t, :, :,:])"
   ]
  },
  {
   "cell_type": "code",
   "execution_count": null,
   "id": "499393d8-8bba-4cb0-9b43-2256922ba58c",
   "metadata": {},
   "outputs": [],
   "source": []
  }
 ],
 "metadata": {
  "kernelspec": {
   "display_name": "Python 3 (ipykernel)",
   "language": "python",
   "name": "python3"
  },
  "language_info": {
   "codemirror_mode": {
    "name": "ipython",
    "version": 3
   },
   "file_extension": ".py",
   "mimetype": "text/x-python",
   "name": "python",
   "nbconvert_exporter": "python",
   "pygments_lexer": "ipython3",
   "version": "3.9.7"
  }
 },
 "nbformat": 4,
 "nbformat_minor": 5
}
