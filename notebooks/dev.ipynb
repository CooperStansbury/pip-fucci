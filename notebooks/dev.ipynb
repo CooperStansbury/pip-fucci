{
 "cells": [
  {
   "cell_type": "code",
   "execution_count": 39,
   "id": "a50593bb-60d1-495e-8d4f-94f6ff775520",
   "metadata": {},
   "outputs": [],
   "source": [
    "import pandas as pd\n",
    "import numpy as np\n",
    "import yaml\n",
    "from pathlib import Path"
   ]
  },
  {
   "cell_type": "code",
   "execution_count": 65,
   "id": "40cf2ad9-3169-47fa-9fd8-c6986eccc825",
   "metadata": {},
   "outputs": [
    {
     "data": {
      "text/html": [
       "<div>\n",
       "<style scoped>\n",
       "    .dataframe tbody tr th:only-of-type {\n",
       "        vertical-align: middle;\n",
       "    }\n",
       "\n",
       "    .dataframe tbody tr th {\n",
       "        vertical-align: top;\n",
       "    }\n",
       "\n",
       "    .dataframe thead th {\n",
       "        text-align: right;\n",
       "    }\n",
       "</style>\n",
       "<table border=\"1\" class=\"dataframe\">\n",
       "  <thead>\n",
       "    <tr style=\"text-align: right;\">\n",
       "      <th></th>\n",
       "      <th>ID</th>\n",
       "      <th>t</th>\n",
       "      <th>x</th>\n",
       "      <th>y</th>\n",
       "      <th>z</th>\n",
       "      <th>parent</th>\n",
       "      <th>root</th>\n",
       "      <th>state</th>\n",
       "      <th>generation</th>\n",
       "      <th>dummy</th>\n",
       "      <th>...</th>\n",
       "      <th>c2_logFoldChange_prepared</th>\n",
       "      <th>c0_pval_prepared</th>\n",
       "      <th>c1_pval_prepared</th>\n",
       "      <th>c2_pval_prepared</th>\n",
       "      <th>c0_logFoldChange_processed</th>\n",
       "      <th>c1_logFoldChange_processed</th>\n",
       "      <th>c2_logFoldChange_processed</th>\n",
       "      <th>c0_pval_processed</th>\n",
       "      <th>c1_pval_processed</th>\n",
       "      <th>c2_pval_processed</th>\n",
       "    </tr>\n",
       "  </thead>\n",
       "  <tbody>\n",
       "    <tr>\n",
       "      <th>0</th>\n",
       "      <td>2753</td>\n",
       "      <td>0</td>\n",
       "      <td>1471.903226</td>\n",
       "      <td>399.935484</td>\n",
       "      <td>0.0</td>\n",
       "      <td>2753</td>\n",
       "      <td>2753</td>\n",
       "      <td>5</td>\n",
       "      <td>0</td>\n",
       "      <td>False</td>\n",
       "      <td>...</td>\n",
       "      <td>-0.106723</td>\n",
       "      <td>7.530280e-16</td>\n",
       "      <td>1.681218e-12</td>\n",
       "      <td>0.861937</td>\n",
       "      <td>3.166707</td>\n",
       "      <td>1.832299</td>\n",
       "      <td>0.389393</td>\n",
       "      <td>2.076077e-16</td>\n",
       "      <td>9.694417e-15</td>\n",
       "      <td>0.001182</td>\n",
       "    </tr>\n",
       "    <tr>\n",
       "      <th>1</th>\n",
       "      <td>2919</td>\n",
       "      <td>0</td>\n",
       "      <td>1480.144330</td>\n",
       "      <td>441.546392</td>\n",
       "      <td>0.0</td>\n",
       "      <td>2919</td>\n",
       "      <td>2919</td>\n",
       "      <td>5</td>\n",
       "      <td>0</td>\n",
       "      <td>False</td>\n",
       "      <td>...</td>\n",
       "      <td>-1.989953</td>\n",
       "      <td>7.765547e-15</td>\n",
       "      <td>3.881317e-12</td>\n",
       "      <td>1.000000</td>\n",
       "      <td>2.240715</td>\n",
       "      <td>1.290910</td>\n",
       "      <td>-1.493838</td>\n",
       "      <td>1.388693e-16</td>\n",
       "      <td>5.594907e-18</td>\n",
       "      <td>1.000000</td>\n",
       "    </tr>\n",
       "    <tr>\n",
       "      <th>2</th>\n",
       "      <td>1273</td>\n",
       "      <td>0</td>\n",
       "      <td>488.037500</td>\n",
       "      <td>993.712500</td>\n",
       "      <td>0.0</td>\n",
       "      <td>1273</td>\n",
       "      <td>1273</td>\n",
       "      <td>5</td>\n",
       "      <td>0</td>\n",
       "      <td>False</td>\n",
       "      <td>...</td>\n",
       "      <td>-0.985273</td>\n",
       "      <td>9.768357e-18</td>\n",
       "      <td>1.826176e-15</td>\n",
       "      <td>1.000000</td>\n",
       "      <td>3.146824</td>\n",
       "      <td>1.664239</td>\n",
       "      <td>-0.489158</td>\n",
       "      <td>2.101264e-18</td>\n",
       "      <td>4.955056e-19</td>\n",
       "      <td>1.000000</td>\n",
       "    </tr>\n",
       "    <tr>\n",
       "      <th>3</th>\n",
       "      <td>2156</td>\n",
       "      <td>0</td>\n",
       "      <td>1007.610169</td>\n",
       "      <td>182.661017</td>\n",
       "      <td>0.0</td>\n",
       "      <td>2156</td>\n",
       "      <td>2156</td>\n",
       "      <td>5</td>\n",
       "      <td>0</td>\n",
       "      <td>False</td>\n",
       "      <td>...</td>\n",
       "      <td>0.308312</td>\n",
       "      <td>1.663925e-16</td>\n",
       "      <td>1.505812e-10</td>\n",
       "      <td>0.023106</td>\n",
       "      <td>3.242326</td>\n",
       "      <td>1.878838</td>\n",
       "      <td>0.804427</td>\n",
       "      <td>4.927378e-17</td>\n",
       "      <td>2.251523e-12</td>\n",
       "      <td>0.000032</td>\n",
       "    </tr>\n",
       "    <tr>\n",
       "      <th>4</th>\n",
       "      <td>2606</td>\n",
       "      <td>0</td>\n",
       "      <td>1381.858974</td>\n",
       "      <td>81.897436</td>\n",
       "      <td>0.0</td>\n",
       "      <td>2606</td>\n",
       "      <td>2606</td>\n",
       "      <td>5</td>\n",
       "      <td>0</td>\n",
       "      <td>False</td>\n",
       "      <td>...</td>\n",
       "      <td>-1.416315</td>\n",
       "      <td>2.386693e-12</td>\n",
       "      <td>4.594880e-10</td>\n",
       "      <td>1.000000</td>\n",
       "      <td>2.716708</td>\n",
       "      <td>1.206603</td>\n",
       "      <td>-0.920200</td>\n",
       "      <td>3.793490e-13</td>\n",
       "      <td>1.711148e-15</td>\n",
       "      <td>1.000000</td>\n",
       "    </tr>\n",
       "  </tbody>\n",
       "</table>\n",
       "<p>5 rows × 43 columns</p>\n",
       "</div>"
      ],
      "text/plain": [
       "     ID  t            x           y    z  parent  root  state  generation   \n",
       "0  2753  0  1471.903226  399.935484  0.0    2753  2753      5           0  \\\n",
       "1  2919  0  1480.144330  441.546392  0.0    2919  2919      5           0   \n",
       "2  1273  0   488.037500  993.712500  0.0    1273  1273      5           0   \n",
       "3  2156  0  1007.610169  182.661017  0.0    2156  2156      5           0   \n",
       "4  2606  0  1381.858974   81.897436  0.0    2606  2606      5           0   \n",
       "\n",
       "   dummy  ...  c2_logFoldChange_prepared  c0_pval_prepared  c1_pval_prepared   \n",
       "0  False  ...                  -0.106723      7.530280e-16      1.681218e-12  \\\n",
       "1  False  ...                  -1.989953      7.765547e-15      3.881317e-12   \n",
       "2  False  ...                  -0.985273      9.768357e-18      1.826176e-15   \n",
       "3  False  ...                   0.308312      1.663925e-16      1.505812e-10   \n",
       "4  False  ...                  -1.416315      2.386693e-12      4.594880e-10   \n",
       "\n",
       "   c2_pval_prepared  c0_logFoldChange_processed  c1_logFoldChange_processed   \n",
       "0          0.861937                    3.166707                    1.832299  \\\n",
       "1          1.000000                    2.240715                    1.290910   \n",
       "2          1.000000                    3.146824                    1.664239   \n",
       "3          0.023106                    3.242326                    1.878838   \n",
       "4          1.000000                    2.716708                    1.206603   \n",
       "\n",
       "   c2_logFoldChange_processed  c0_pval_processed  c1_pval_processed   \n",
       "0                    0.389393       2.076077e-16       9.694417e-15  \\\n",
       "1                   -1.493838       1.388693e-16       5.594907e-18   \n",
       "2                   -0.489158       2.101264e-18       4.955056e-19   \n",
       "3                    0.804427       4.927378e-17       2.251523e-12   \n",
       "4                   -0.920200       3.793490e-13       1.711148e-15   \n",
       "\n",
       "   c2_pval_processed  \n",
       "0           0.001182  \n",
       "1           1.000000  \n",
       "2           1.000000  \n",
       "3           0.000032  \n",
       "4           1.000000  \n",
       "\n",
       "[5 rows x 43 columns]"
      ]
     },
     "execution_count": 65,
     "metadata": {},
     "output_type": "execute_result"
    }
   ],
   "source": [
    "fpath = \"/scratch/indikar_root/indikar1/cstansbu/pf-test/tracks/B2.tracks.full.csv\"\n",
    "cpath = \"../config/config.yaml\"\n",
    "\n",
    "config = yaml.safe_load(Path(cpath).read_text())\n",
    "\n",
    "tracks = pd.read_csv(fpath)\n",
    "tracks.head()"
   ]
  },
  {
   "cell_type": "code",
   "execution_count": 71,
   "id": "f127b91d-8133-4b3c-beec-b4a68acd3007",
   "metadata": {},
   "outputs": [
    {
     "name": "stdout",
     "output_type": "stream",
     "text": [
      "alpha=0.05 ntests=844374 6.074712488590706e-08\n"
     ]
    },
    {
     "data": {
      "text/plain": [
       "0    G1\n",
       "1    G1\n",
       "2    G1\n",
       "3    G1\n",
       "4    G1\n",
       "Name: val, dtype: object"
      ]
     },
     "execution_count": 71,
     "metadata": {},
     "output_type": "execute_result"
    }
   ],
   "source": [
    "def getAhat(tracks, config):\n",
    "    \"\"\"A function to compute the corrected aplha\n",
    "    value using Bonferroni correction \"\"\"\n",
    "    alpha = config['phase']['alpha']\n",
    "\n",
    "    # number of tests performed is one per cell per time for each channel\n",
    "    t = tracks[['t', 'label']].drop_duplicates()\n",
    "    ntests = len(t) * 3\n",
    "    alphaHat = 1 - ((1-alpha) ** (1/ntests))\n",
    "    print(f\"{alpha=} {ntests=} {alphaHat}\")\n",
    "    return alphaHat\n",
    "\n",
    "\n",
    "def getPhases(tracks, config):\n",
    "    \"\"\"A function to threhold pvals \"\"\"\n",
    "    a = getAhat(tracks, config)\n",
    "\n",
    "    testCols = [\n",
    "        'c0_pval_prepared',\n",
    "        'c0_pval_processed',\n",
    "        'c1_pval_prepared',\n",
    "        'c1_pval_processed',\n",
    "        'c2_pval_prepared',\n",
    "        'c2_pval_processed',\n",
    "    ]\n",
    "\n",
    "    # threshold all based on corrected alpha\n",
    "    flags = np.where(tracks[testCols] <= a, 1, 0)\n",
    "    flags = pd.DataFrame(flags, columns=testCols)\n",
    "    flags = flags.fillna(0)\n",
    "\n",
    "    newCols = ['c0', 'c1', 'c2']\n",
    "\n",
    "    # cell must be significant in both \n",
    "    # the processed and raw images\n",
    "    for c in newCols:\n",
    "        pairs = [x for x in flags.columns if c in x]\n",
    "        flags[c] = flags[pairs].min(axis=1)\n",
    "        # print(c, pairs)\n",
    "\n",
    "    \n",
    "    flags = flags[newCols].astype(str)\n",
    "    flags['val'] = flags.agg(''.join, axis=1)\n",
    "\n",
    "    # map phases\n",
    "    phaseMap = config['phase']['phase_map']\n",
    "    phaseMap_r = dict((v,k) for k,v in phaseMap.items())\n",
    "    \n",
    "    tracks['phase'] = flags['val'].map(phaseMap_r)\n",
    "    tracks['phase'] = tracks['phase'].fillna('NA')\n",
    "    return tracks.\n",
    "    \n",
    "    \n",
    "\n",
    "\n",
    "\n",
    "\n",
    "phase = getPhases(tracks, config)\n",
    "phase.head()\n",
    "    "
   ]
  },
  {
   "cell_type": "code",
   "execution_count": 73,
   "id": "7334bb81-f40e-4b4d-aec2-b9bf3fc3e1aa",
   "metadata": {},
   "outputs": [
    {
     "name": "stdout",
     "output_type": "stream",
     "text": [
      "['ID', 't', 'x', 'y', 'z', 'parent', 'root', 'state', 'generation', 'dummy', 'area_x', 'area_y', 'area_convex', 'area_filled', 'axis_major_length', 'axis_minor_length', 'eccentricity', 'c0_intensity_max', 'c1_intensity_max', 'c2_intensity_max', 'c0_intensity_min', 'c1_intensity_min', 'c2_intensity_min', 'c0_intensity_mean', 'c1_intensity_mean', 'c2_intensity_mean', 'label', 'orientation', 'perimeter', 'solidity', 'circularity', 'c0_logFoldChange_prepared', 'c1_logFoldChange_prepared', 'c2_logFoldChange_prepared', 'c0_pval_prepared', 'c1_pval_prepared', 'c2_pval_prepared', 'c0_logFoldChange_processed', 'c1_logFoldChange_processed', 'c2_logFoldChange_processed', 'c0_pval_processed', 'c1_pval_processed', 'c2_pval_processed', 'phase']\n"
     ]
    }
   ],
   "source": [
    "def getPhaseData(tracks, phase):\n",
    "    \"\"\"a function to structure the output \"\"\" \n",
    "    tracks['phase'] = phase\n",
    "    print(list(tracks.columns))\n",
    "\n",
    "\n",
    "\n",
    "getPhaseData(tracks, phase)"
   ]
  },
  {
   "cell_type": "code",
   "execution_count": 74,
   "id": "85c523fb-51c4-4e8d-b369-9eff7ab10197",
   "metadata": {},
   "outputs": [
    {
     "data": {
      "text/plain": [
       "['ID',\n",
       " 't',\n",
       " 'x',\n",
       " 'y',\n",
       " 'z',\n",
       " 'parent',\n",
       " 'root',\n",
       " 'state',\n",
       " 'generation',\n",
       " 'dummy',\n",
       " 'area_x',\n",
       " 'area_y',\n",
       " 'area_convex',\n",
       " 'area_filled',\n",
       " 'axis_major_length',\n",
       " 'axis_minor_length',\n",
       " 'eccentricity',\n",
       " 'c0_intensity_max',\n",
       " 'c1_intensity_max',\n",
       " 'c2_intensity_max',\n",
       " 'c0_intensity_min',\n",
       " 'c1_intensity_min',\n",
       " 'c2_intensity_min',\n",
       " 'c0_intensity_mean',\n",
       " 'c1_intensity_mean',\n",
       " 'c2_intensity_mean',\n",
       " 'label',\n",
       " 'orientation',\n",
       " 'perimeter',\n",
       " 'solidity',\n",
       " 'circularity',\n",
       " 'c0_logFoldChange_prepared',\n",
       " 'c1_logFoldChange_prepared',\n",
       " 'c2_logFoldChange_prepared',\n",
       " 'c0_pval_prepared',\n",
       " 'c1_pval_prepared',\n",
       " 'c2_pval_prepared',\n",
       " 'c0_logFoldChange_processed',\n",
       " 'c1_logFoldChange_processed',\n",
       " 'c2_logFoldChange_processed',\n",
       " 'c0_pval_processed',\n",
       " 'c1_pval_processed',\n",
       " 'c2_pval_processed',\n",
       " 'phase']"
      ]
     },
     "execution_count": 74,
     "metadata": {},
     "output_type": "execute_result"
    }
   ],
   "source": [
    "list(tracks.columns)"
   ]
  },
  {
   "cell_type": "code",
   "execution_count": null,
   "id": "c475db08-ff18-47a7-b316-202c5510f6e2",
   "metadata": {},
   "outputs": [],
   "source": [
    "keepCols = [\n",
    "\n",
    "]"
   ]
  },
  {
   "cell_type": "code",
   "execution_count": null,
   "id": "81a043d3-e8a0-4eee-82b0-86a3db461125",
   "metadata": {},
   "outputs": [],
   "source": []
  },
  {
   "cell_type": "code",
   "execution_count": null,
   "id": "83f67fba-0ae0-4bac-baba-9db7135af039",
   "metadata": {},
   "outputs": [],
   "source": []
  },
  {
   "cell_type": "code",
   "execution_count": 67,
   "id": "6f01dfb1-8997-460c-8bdb-aca8c976d75d",
   "metadata": {},
   "outputs": [
    {
     "data": {
      "text/plain": [
       "{'110': 'G1', '111': 'S', '011': 'G2'}"
      ]
     },
     "execution_count": 67,
     "metadata": {},
     "output_type": "execute_result"
    }
   ],
   "source": [
    "config['phase']['phase_map']\n",
    "pfMap = dict((v,k) for k,v in config['phase']['phase_map'].items())\n",
    "pfMap"
   ]
  },
  {
   "cell_type": "code",
   "execution_count": null,
   "id": "846ee5ec-4d6b-49c4-b120-3782853f8ee4",
   "metadata": {},
   "outputs": [],
   "source": []
  },
  {
   "cell_type": "code",
   "execution_count": 64,
   "id": "7f01a1d3-2bae-4b9b-b987-047bfc508d7b",
   "metadata": {},
   "outputs": [
    {
     "name": "stdout",
     "output_type": "stream",
     "text": [
      "{'nucleus': 1, 'red': 0, 'green': 2}\n",
      "red G1\n",
      "green G2\n",
      "both S\n"
     ]
    }
   ],
   "source": [
    "def getPhaseMap(config):\n",
    "    channels = config['channels']\n",
    "    print(channels)\n",
    "\n",
    "    pfMap = config['phase']['phase_map']\n",
    "\n",
    "    for k, v in pfMap.items():\n",
    "        print(k, v)\n",
    "\n",
    "\n",
    "getPhaseMap(config)\n",
    "    \n",
    "    "
   ]
  },
  {
   "cell_type": "code",
   "execution_count": null,
   "id": "a8177e99-3932-4046-9716-c656084cae57",
   "metadata": {},
   "outputs": [],
   "source": []
  },
  {
   "cell_type": "code",
   "execution_count": 36,
   "id": "cc7c1214-5583-41e2-8c73-952e91488932",
   "metadata": {},
   "outputs": [],
   "source": [
    "testCols = [\n",
    "    'c1_pval_prepared',\n",
    "    'c0_pval_prepared',\n",
    "    'c2_pval_prepared',\n",
    "    'c0_pval_processed',\n",
    "    'c1_pval_processed',\n",
    "    'c2_pval_processed',\n",
    "]"
   ]
  },
  {
   "cell_type": "code",
   "execution_count": 38,
   "id": "c868f39f-78b9-4426-9483-847f935884d9",
   "metadata": {},
   "outputs": [
    {
     "data": {
      "text/plain": [
       "281458"
      ]
     },
     "execution_count": 38,
     "metadata": {},
     "output_type": "execute_result"
    }
   ],
   "source": [
    "t = tracks[['t', 'label']].drop_duplicates()\n",
    "len(t)"
   ]
  },
  {
   "cell_type": "code",
   "execution_count": null,
   "id": "53f9dcd7-e2d8-4012-bf61-64a39011086b",
   "metadata": {},
   "outputs": [],
   "source": []
  },
  {
   "cell_type": "code",
   "execution_count": 35,
   "id": "8613197b-f3af-4fa5-ad8d-23c14d2116fd",
   "metadata": {},
   "outputs": [
    {
     "data": {
      "text/plain": [
       "['c0_pval_prepared',\n",
       " 'c1_pval_prepared',\n",
       " 'c2_pval_prepared',\n",
       " 'c0_pval_processed',\n",
       " 'c1_pval_processed',\n",
       " 'c2_pval_processed']"
      ]
     },
     "execution_count": 35,
     "metadata": {},
     "output_type": "execute_result"
    }
   ],
   "source": []
  },
  {
   "cell_type": "code",
   "execution_count": null,
   "id": "4ba8d03d-bbaf-4859-8b7f-03f64da8e4a7",
   "metadata": {},
   "outputs": [],
   "source": []
  },
  {
   "cell_type": "code",
   "execution_count": null,
   "id": "7df4dcb0-084d-41dd-a31f-9318ee8e30be",
   "metadata": {},
   "outputs": [],
   "source": [
    "def computeAlphaHat(tracks, alpha)\n",
    "\n",
    "alpha = 0.001\n",
    "ntests = len(scores) * 3 # number of times times channels\n",
    "alphaHat = 1 - ((1-alpha) ** (1/ntests))\n",
    "print(f\"{alpha=} {ntests=} {alphaHat}\")"
   ]
  }
 ],
 "metadata": {
  "kernelspec": {
   "display_name": "Python 3 (ipykernel)",
   "language": "python",
   "name": "python3"
  },
  "language_info": {
   "codemirror_mode": {
    "name": "ipython",
    "version": 3
   },
   "file_extension": ".py",
   "mimetype": "text/x-python",
   "name": "python",
   "nbconvert_exporter": "python",
   "pygments_lexer": "ipython3",
   "version": "3.9.7"
  }
 },
 "nbformat": 4,
 "nbformat_minor": 5
}
